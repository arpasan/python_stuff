{
  "nbformat": 4,
  "nbformat_minor": 0,
  "metadata": {
    "colab": {
      "name": "pytorch_classification_without_torchvision.ipynb",
      "provenance": [],
      "collapsed_sections": [],
      "toc_visible": true
    },
    "kernelspec": {
      "name": "python3",
      "display_name": "Python 3"
    },
    "accelerator": "GPU"
  },
  "cells": [
    {
      "cell_type": "markdown",
      "metadata": {
        "id": "RnHNolkUFT00"
      },
      "source": [
        "## `PyTorch` without `torchvision`"
      ]
    },
    {
      "cell_type": "markdown",
      "metadata": {
        "id": "zILk7rQxgk6Z"
      },
      "source": [
        "### (i) Preprocessor and Setup"
      ]
    },
    {
      "cell_type": "code",
      "metadata": {
        "id": "ay_16Igkqaqm",
        "colab": {
          "base_uri": "https://localhost:8080/",
          "height": 34
        },
        "outputId": "1e54bbd1-7d87-4466-9541-dcb650cb3ed3"
      },
      "source": [
        "from google.colab import drive \n",
        "drive.mount('/content/gdrive')"
      ],
      "execution_count": null,
      "outputs": [
        {
          "output_type": "stream",
          "text": [
            "Mounted at /content/gdrive\n"
          ],
          "name": "stdout"
        }
      ]
    },
    {
      "cell_type": "code",
      "metadata": {
        "id": "JrI1Wqg7t5Nd"
      },
      "source": [
        "# Importing some packages.\n",
        "from skimage.io import imread\n",
        "from tqdm import tqdm"
      ],
      "execution_count": null,
      "outputs": []
    },
    {
      "cell_type": "code",
      "metadata": {
        "id": "yPjKX1IW9s_i",
        "colab": {
          "base_uri": "https://localhost:8080/",
          "height": 204
        },
        "outputId": "db063afe-a18c-4aa9-e91d-5a39dfe0b5e5"
      },
      "source": [
        "import pandas as pd\n",
        "\n",
        "train = pd.read_csv('/content/gdrive/My Drive/pytorch/flower_photos/training_set/training.csv')\n",
        "\n",
        "train.head()"
      ],
      "execution_count": null,
      "outputs": [
        {
          "output_type": "execute_result",
          "data": {
            "text/html": [
              "<div>\n",
              "<style scoped>\n",
              "    .dataframe tbody tr th:only-of-type {\n",
              "        vertical-align: middle;\n",
              "    }\n",
              "\n",
              "    .dataframe tbody tr th {\n",
              "        vertical-align: top;\n",
              "    }\n",
              "\n",
              "    .dataframe thead th {\n",
              "        text-align: right;\n",
              "    }\n",
              "</style>\n",
              "<table border=\"1\" class=\"dataframe\">\n",
              "  <thead>\n",
              "    <tr style=\"text-align: right;\">\n",
              "      <th></th>\n",
              "      <th>label</th>\n",
              "      <th>Id</th>\n",
              "      <th>image_type</th>\n",
              "    </tr>\n",
              "  </thead>\n",
              "  <tbody>\n",
              "    <tr>\n",
              "      <th>0</th>\n",
              "      <td>tulips</td>\n",
              "      <td>420216121_3ee33723d7_m</td>\n",
              "      <td>.jpg</td>\n",
              "    </tr>\n",
              "    <tr>\n",
              "      <th>1</th>\n",
              "      <td>tulips</td>\n",
              "      <td>19425920580_cdc8f49aed_n</td>\n",
              "      <td>.jpg</td>\n",
              "    </tr>\n",
              "    <tr>\n",
              "      <th>2</th>\n",
              "      <td>tulips</td>\n",
              "      <td>8605564823_7a59d3d92a</td>\n",
              "      <td>.jpg</td>\n",
              "    </tr>\n",
              "    <tr>\n",
              "      <th>3</th>\n",
              "      <td>tulips</td>\n",
              "      <td>16303377824_6e9128b4bd</td>\n",
              "      <td>.jpg</td>\n",
              "    </tr>\n",
              "    <tr>\n",
              "      <th>4</th>\n",
              "      <td>tulips</td>\n",
              "      <td>2503489175_f0848d3e8e</td>\n",
              "      <td>.jpg</td>\n",
              "    </tr>\n",
              "  </tbody>\n",
              "</table>\n",
              "</div>"
            ],
            "text/plain": [
              "    label                        Id image_type\n",
              "0  tulips    420216121_3ee33723d7_m       .jpg\n",
              "1  tulips  19425920580_cdc8f49aed_n       .jpg\n",
              "2  tulips     8605564823_7a59d3d92a       .jpg\n",
              "3  tulips    16303377824_6e9128b4bd       .jpg\n",
              "4  tulips     2503489175_f0848d3e8e       .jpg"
            ]
          },
          "metadata": {
            "tags": []
          },
          "execution_count": 3
        }
      ]
    },
    {
      "cell_type": "code",
      "metadata": {
        "id": "p4EaLmdrK0ir"
      },
      "source": [
        "training_path = '/content/gdrive/My Drive/pytorch/flower_photos/training_set/'"
      ],
      "execution_count": null,
      "outputs": []
    },
    {
      "cell_type": "code",
      "metadata": {
        "id": "3RVpno-pukN6"
      },
      "source": [
        "train['label'] = train['label'].map({'tulips': 1, 'daisy': 2, 'dandelion': 3,\n",
        "                                     'sunflowers': 4, 'roses': 5})"
      ],
      "execution_count": null,
      "outputs": []
    },
    {
      "cell_type": "code",
      "metadata": {
        "id": "Bi-CJU3cMfVX"
      },
      "source": [
        "train = train.rename(columns={'Id':'id'})"
      ],
      "execution_count": null,
      "outputs": []
    },
    {
      "cell_type": "markdown",
      "metadata": {
        "id": "Wmo_I3nSiKrQ"
      },
      "source": [
        "#### Preprocessor"
      ]
    },
    {
      "cell_type": "code",
      "metadata": {
        "id": "4UxhD7Z_JQ-x"
      },
      "source": [
        "def preprocessor(data_path, labels_df):\n",
        "        \"\"\"\n",
        "        This function preprocesses images by reading them in, resizing\n",
        "        to a fixed shape and min-max transforming them before converting\n",
        "        feature values to `float32` numeric values. (For ONNX.)\n",
        "        (NB GPU usage for modelling is advisable.)\n",
        "        \n",
        "        params:\n",
        "            data_path\n",
        "                list of unprocessed images\n",
        "            labels_df\n",
        "                dataframe storing the image labels\n",
        "                      \n",
        "        returns:\n",
        "            preprocessor\n",
        "                preprocessed image data\n",
        "                  \n",
        "        \"\"\"\n",
        "           \n",
        "        import cv2\n",
        "\n",
        "        preprocessed_img = []\n",
        "        for img_name in tqdm(labels_df['id']):\n",
        "            image_path = data_path + str(img_name) + '.jpg' # Define image path.\n",
        "            img = cv2.imread(image_path) # Read in the image.\n",
        "            img = cv2.cvtColor(img, cv2.COLOR_BGR2RGB)\n",
        "            img = cv2.resize(img, dsize=(28, 28)) # Smaller works better.\n",
        "            img = img / 255.0 # Normalization.\n",
        "            img = img.astype('float32') # float32 for ONNX.\n",
        "            preprocessed_img.append(img) # Append images to a list.\n",
        "        return preprocessed_img"
      ],
      "execution_count": null,
      "outputs": []
    },
    {
      "cell_type": "code",
      "metadata": {
        "id": "1DSVvGHkeqnW",
        "colab": {
          "base_uri": "https://localhost:8080/",
          "height": 51
        },
        "outputId": "edeb5def-96fb-4dba-a659-14c6b653cc3a"
      },
      "source": [
        "import numpy as np\n",
        "\n",
        "train_x = np.array(preprocessor(training_path, train)) # Convert to a numpy array.\n",
        "train_y = train['label'].values # Define the target.\n",
        "train_x.shape"
      ],
      "execution_count": null,
      "outputs": [
        {
          "output_type": "stream",
          "text": [
            "100%|██████████| 2935/2935 [00:14<00:00, 201.43it/s]\n"
          ],
          "name": "stderr"
        },
        {
          "output_type": "execute_result",
          "data": {
            "text/plain": [
              "(2935, 28, 28, 3)"
            ]
          },
          "metadata": {
            "tags": []
          },
          "execution_count": 24
        }
      ]
    },
    {
      "cell_type": "code",
      "metadata": {
        "id": "lw7Hsdvjh72K",
        "colab": {
          "base_uri": "https://localhost:8080/",
          "height": 626
        },
        "outputId": "c7d94eb3-4908-4205-ecd5-776d868e071b"
      },
      "source": [
        "# Visualize some images.\n",
        "import matplotlib.pyplot as plt\n",
        "%matplotlib inline\n",
        "\n",
        "i = 0\n",
        "plt.figure(figsize=(10,10))\n",
        "plt.subplot(221), plt.imshow(train_x[i])\n",
        "plt.subplot(222), plt.imshow(train_x[i+25])\n",
        "plt.subplot(223), plt.imshow(train_x[i+50])\n",
        "plt.subplot(224), plt.imshow(train_x[i+75])"
      ],
      "execution_count": null,
      "outputs": [
        {
          "output_type": "execute_result",
          "data": {
            "text/plain": [
              "(<matplotlib.axes._subplots.AxesSubplot at 0x7f315afbdfd0>,\n",
              " <matplotlib.image.AxesImage at 0x7f315af78240>)"
            ]
          },
          "metadata": {
            "tags": []
          },
          "execution_count": 25
        },
        {
          "output_type": "display_data",
          "data": {
            "image/png": "[encoded data removed]",
            "text/plain": [
              "<Figure size 720x720 with 4 Axes>"
            ]
          },
          "metadata": {
            "tags": [],
            "needs_background": "light"
          }
        }
      ]
    },
    {
      "cell_type": "code",
      "metadata": {
        "id": "CaZ7T0uNh8B1",
        "colab": {
          "base_uri": "https://localhost:8080/",
          "height": 34
        },
        "outputId": "2d971f4f-96e7-405b-aeaa-5e705242b137"
      },
      "source": [
        "# `train_test_split()`.\n",
        "from sklearn.model_selection import train_test_split\n",
        "\n",
        "train_x, test_x, train_y, test_y = train_test_split(train_x, train_y, test_size=0.1)\n",
        "(train_x.shape, train_y.shape), (test_x.shape, test_y.shape)"
      ],
      "execution_count": null,
      "outputs": [
        {
          "output_type": "execute_result",
          "data": {
            "text/plain": [
              "(((2641, 28, 28, 3), (2641,)), ((294, 28, 28, 3), (294,)))"
            ]
          },
          "metadata": {
            "tags": []
          },
          "execution_count": 26
        }
      ]
    },
    {
      "cell_type": "code",
      "metadata": {
        "id": "o8gpUxQ-rULT",
        "colab": {
          "base_uri": "https://localhost:8080/",
          "height": 34
        },
        "outputId": "6f8dd967-0316-4a64-e8bc-63106b8fb33b"
      },
      "source": [
        "train_y # Sanity check. Looks right! NB tulips = 1, daisy = 2, dandelion = 3, sunflowers = 4, roses = 5."
      ],
      "execution_count": null,
      "outputs": [
        {
          "output_type": "execute_result",
          "data": {
            "text/plain": [
              "array([1, 5, 5, ..., 3, 1, 2])"
            ]
          },
          "metadata": {
            "tags": []
          },
          "execution_count": 27
        }
      ]
    },
    {
      "cell_type": "code",
      "metadata": {
        "id": "8gd3vZ2BkdOA"
      },
      "source": [
        "# Some PyTorch packages.\n",
        "import torch\n",
        "from torch.autograd import Variable\n",
        "from torch.nn import Linear, ReLU, CrossEntropyLoss, Sequential, Conv2d, MaxPool2d, Module, Softmax, BatchNorm2d, Dropout\n",
        "from torch.optim import Adam, SGD"
      ],
      "execution_count": null,
      "outputs": []
    },
    {
      "cell_type": "code",
      "metadata": {
        "id": "4P8dLe7vm5RG",
        "colab": {
          "base_uri": "https://localhost:8080/",
          "height": 34
        },
        "outputId": "ea354f0e-1497-4f4c-e468-d72ffc960455"
      },
      "source": [
        "# Convert training images to torch format.\n",
        "train_x = np.transpose(train_x, (0, 3, 1, 2))\n",
        "train_x  = torch.from_numpy(train_x)\n",
        "\n",
        "# Convert the target to torch format.\n",
        "train_y = train_y.astype(int);\n",
        "train_y = torch.from_numpy(train_y)\n",
        "\n",
        "train_x.shape, train_y.shape # Check shape."
      ],
      "execution_count": null,
      "outputs": [
        {
          "output_type": "execute_result",
          "data": {
            "text/plain": [
              "(torch.Size([2641, 3, 28, 28]), torch.Size([2641]))"
            ]
          },
          "metadata": {
            "tags": []
          },
          "execution_count": 28
        }
      ]
    },
    {
      "cell_type": "code",
      "metadata": {
        "id": "u2wN8Bnlh75R",
        "colab": {
          "base_uri": "https://localhost:8080/",
          "height": 34
        },
        "outputId": "ac30822d-87e9-489b-bb43-b628a1643862"
      },
      "source": [
        "# Same conversions for the test set.\n",
        "test_x = np.transpose(test_x, (0, 3, 1, 2))\n",
        "test_x  = torch.from_numpy(test_x)\n",
        "\n",
        "test_y = test_y.astype(int);\n",
        "test_y = torch.from_numpy(test_y)\n",
        "\n",
        "test_x.shape, test_y.shape # Check shape."
      ],
      "execution_count": null,
      "outputs": [
        {
          "output_type": "execute_result",
          "data": {
            "text/plain": [
              "(torch.Size([294, 3, 28, 28]), torch.Size([294]))"
            ]
          },
          "metadata": {
            "tags": []
          },
          "execution_count": 29
        }
      ]
    },
    {
      "cell_type": "markdown",
      "metadata": {
        "id": "3yJEoswhygQm"
      },
      "source": [
        "### (ii) Train Model Using `torch`"
      ]
    },
    {
      "cell_type": "code",
      "metadata": {
        "id": "0j0Tl7WmynTI"
      },
      "source": [
        "class Net(Module):   \n",
        "    def __init__(self):\n",
        "        super(Net, self).__init__()\n",
        "\n",
        "        self.cnn_layers = Sequential(\n",
        "            # Define a 2D convolution layer.\n",
        "            Conv2d(3, 4, kernel_size=3, stride=1, padding=1), # https://stackoverflow.com/questions/56675943/meaning-of-parameters-in-torch-nn-conv2d\n",
        "            BatchNorm2d(4),\n",
        "            ReLU(inplace=True),\n",
        "            MaxPool2d(kernel_size=2, stride=2),\n",
        "            # Another 2D convolution layer.\n",
        "            Conv2d(4, 4, kernel_size=3, stride=1, padding=1),\n",
        "            BatchNorm2d(4),\n",
        "            ReLU(inplace=True),\n",
        "            MaxPool2d(kernel_size=2, stride=2),\n",
        "        )\n",
        "\n",
        "        self.linear_layers = Sequential(\n",
        "            Linear(4 * 7 * 7, 10)\n",
        "        )\n",
        "\n",
        "    # Define the forward pass.   \n",
        "    def forward(self, x):\n",
        "        x = self.cnn_layers(x)\n",
        "        x = x.reshape(x.size(0), -1)\n",
        "        x = self.linear_layers(x)\n",
        "        return x"
      ],
      "execution_count": null,
      "outputs": []
    },
    {
      "cell_type": "code",
      "metadata": {
        "id": "TCcLL_PGyMlr",
        "colab": {
          "base_uri": "https://localhost:8080/",
          "height": 272
        },
        "outputId": "64b91b86-2291-46e4-cfdf-849e48b563aa"
      },
      "source": [
        "model = Net() # Define model.\n",
        "optimizer = Adam(model.parameters(), lr=0.07) # Define optimizer.\n",
        "criterion = CrossEntropyLoss() # Define loss function.\n",
        "# Check if GPU is available.\n",
        "if torch.cuda.is_available():\n",
        "    model = model.cuda()\n",
        "    criterion = criterion.cuda()\n",
        "    \n",
        "print(model)"
      ],
      "execution_count": null,
      "outputs": [
        {
          "output_type": "stream",
          "text": [
            "Net(\n",
            "  (cnn_layers): Sequential(\n",
            "    (0): Conv2d(3, 4, kernel_size=(3, 3), stride=(1, 1), padding=(1, 1))\n",
            "    (1): BatchNorm2d(4, eps=1e-05, momentum=0.1, affine=True, track_running_stats=True)\n",
            "    (2): ReLU(inplace=True)\n",
            "    (3): MaxPool2d(kernel_size=2, stride=2, padding=0, dilation=1, ceil_mode=False)\n",
            "    (4): Conv2d(4, 4, kernel_size=(3, 3), stride=(1, 1), padding=(1, 1))\n",
            "    (5): BatchNorm2d(4, eps=1e-05, momentum=0.1, affine=True, track_running_stats=True)\n",
            "    (6): ReLU(inplace=True)\n",
            "    (7): MaxPool2d(kernel_size=2, stride=2, padding=0, dilation=1, ceil_mode=False)\n",
            "  )\n",
            "  (linear_layers): Sequential(\n",
            "    (0): Linear(in_features=196, out_features=10, bias=True)\n",
            "  )\n",
            ")\n"
          ],
          "name": "stdout"
        }
      ]
    },
    {
      "cell_type": "code",
      "metadata": {
        "id": "SQD3qweizSYp"
      },
      "source": [
        "def train(epoch):\n",
        "    model.train()\n",
        "    tr_loss = 0\n",
        "    x_train, y_train = Variable(train_x), Variable(train_y) # Retrieve the training-set.\n",
        "    x_test, y_test = Variable(test_x), Variable(test_y) # Retrieve the test-set.\n",
        "    # Convert the data to GPU format.\n",
        "    if torch.cuda.is_available():\n",
        "        x_train = x_train.cuda()\n",
        "        y_train = y_train.cuda()\n",
        "        x_test = x_test.cuda()\n",
        "        y_test = y_test.cuda()\n",
        "\n",
        "    optimizer.zero_grad() # Clear the Gradients of the model params.\n",
        "    \n",
        "    # Prediction for training and test sets.\n",
        "    output_train = model(x_train)\n",
        "    output_test = model(x_test)\n",
        "\n",
        "    # Compute the training and test loss.\n",
        "    loss_train = criterion(output_train, y_train)\n",
        "    loss_test = criterion(output_test, y_test)\n",
        "    train_losses.append(loss_train)\n",
        "    test_losses.append(loss_test)\n",
        "\n",
        "    # Compute the updated weights of all the model params.\n",
        "    loss_train.backward()\n",
        "    optimizer.step()\n",
        "    tr_loss = loss_train.item()\n",
        "    if epoch%2 == 0:\n",
        "        print('Epoch : ',epoch+1, '\\t', 'loss :', loss_test) # Print the test loss."
      ],
      "execution_count": null,
      "outputs": []
    },
    {
      "cell_type": "code",
      "metadata": {
        "id": "ITedqIWg4nax",
        "colab": {
          "base_uri": "https://localhost:8080/",
          "height": 663
        },
        "outputId": "808825ce-65f7-456a-d956-1b89c6f1f584"
      },
      "source": [
        "n_epochs = 75 # Define number of epochs.\n",
        "train_losses = [] # Empty list to store training losses.\n",
        "test_losses = [] # Ditto for test losses.\n",
        "\n",
        "# Train the model.\n",
        "for epoch in range(n_epochs):\n",
        "    train(epoch)"
      ],
      "execution_count": null,
      "outputs": [
        {
          "output_type": "stream",
          "text": [
            "Epoch :  1 \t loss : tensor(2.4768, device='cuda:0', grad_fn=<NllLossBackward>)\n",
            "Epoch :  3 \t loss : tensor(4.6536, device='cuda:0', grad_fn=<NllLossBackward>)\n",
            "Epoch :  5 \t loss : tensor(1.9951, device='cuda:0', grad_fn=<NllLossBackward>)\n",
            "Epoch :  7 \t loss : tensor(1.6438, device='cuda:0', grad_fn=<NllLossBackward>)\n",
            "Epoch :  9 \t loss : tensor(1.5271, device='cuda:0', grad_fn=<NllLossBackward>)\n",
            "Epoch :  11 \t loss : tensor(1.5482, device='cuda:0', grad_fn=<NllLossBackward>)\n",
            "Epoch :  13 \t loss : tensor(1.6050, device='cuda:0', grad_fn=<NllLossBackward>)\n",
            "Epoch :  15 \t loss : tensor(1.6071, device='cuda:0', grad_fn=<NllLossBackward>)\n",
            "Epoch :  17 \t loss : tensor(1.5667, device='cuda:0', grad_fn=<NllLossBackward>)\n",
            "Epoch :  19 \t loss : tensor(1.5607, device='cuda:0', grad_fn=<NllLossBackward>)\n",
            "Epoch :  21 \t loss : tensor(1.5520, device='cuda:0', grad_fn=<NllLossBackward>)\n",
            "Epoch :  23 \t loss : tensor(1.5165, device='cuda:0', grad_fn=<NllLossBackward>)\n",
            "Epoch :  25 \t loss : tensor(1.4781, device='cuda:0', grad_fn=<NllLossBackward>)\n",
            "Epoch :  27 \t loss : tensor(1.4546, device='cuda:0', grad_fn=<NllLossBackward>)\n",
            "Epoch :  29 \t loss : tensor(1.4387, device='cuda:0', grad_fn=<NllLossBackward>)\n",
            "Epoch :  31 \t loss : tensor(1.4219, device='cuda:0', grad_fn=<NllLossBackward>)\n",
            "Epoch :  33 \t loss : tensor(1.4101, device='cuda:0', grad_fn=<NllLossBackward>)\n",
            "Epoch :  35 \t loss : tensor(1.4043, device='cuda:0', grad_fn=<NllLossBackward>)\n",
            "Epoch :  37 \t loss : tensor(1.3917, device='cuda:0', grad_fn=<NllLossBackward>)\n",
            "Epoch :  39 \t loss : tensor(1.3715, device='cuda:0', grad_fn=<NllLossBackward>)\n",
            "Epoch :  41 \t loss : tensor(1.3559, device='cuda:0', grad_fn=<NllLossBackward>)\n",
            "Epoch :  43 \t loss : tensor(1.3486, device='cuda:0', grad_fn=<NllLossBackward>)\n",
            "Epoch :  45 \t loss : tensor(1.3440, device='cuda:0', grad_fn=<NllLossBackward>)\n",
            "Epoch :  47 \t loss : tensor(1.3363, device='cuda:0', grad_fn=<NllLossBackward>)\n",
            "Epoch :  49 \t loss : tensor(1.3342, device='cuda:0', grad_fn=<NllLossBackward>)\n",
            "Epoch :  51 \t loss : tensor(1.3320, device='cuda:0', grad_fn=<NllLossBackward>)\n",
            "Epoch :  53 \t loss : tensor(1.3199, device='cuda:0', grad_fn=<NllLossBackward>)\n",
            "Epoch :  55 \t loss : tensor(1.3035, device='cuda:0', grad_fn=<NllLossBackward>)\n",
            "Epoch :  57 \t loss : tensor(1.2946, device='cuda:0', grad_fn=<NllLossBackward>)\n",
            "Epoch :  59 \t loss : tensor(1.2937, device='cuda:0', grad_fn=<NllLossBackward>)\n",
            "Epoch :  61 \t loss : tensor(1.2913, device='cuda:0', grad_fn=<NllLossBackward>)\n",
            "Epoch :  63 \t loss : tensor(1.2860, device='cuda:0', grad_fn=<NllLossBackward>)\n",
            "Epoch :  65 \t loss : tensor(1.2861, device='cuda:0', grad_fn=<NllLossBackward>)\n",
            "Epoch :  67 \t loss : tensor(1.2854, device='cuda:0', grad_fn=<NllLossBackward>)\n",
            "Epoch :  69 \t loss : tensor(1.2791, device='cuda:0', grad_fn=<NllLossBackward>)\n",
            "Epoch :  71 \t loss : tensor(1.2735, device='cuda:0', grad_fn=<NllLossBackward>)\n",
            "Epoch :  73 \t loss : tensor(1.2728, device='cuda:0', grad_fn=<NllLossBackward>)\n",
            "Epoch :  75 \t loss : tensor(1.2699, device='cuda:0', grad_fn=<NllLossBackward>)\n"
          ],
          "name": "stdout"
        }
      ]
    },
    {
      "cell_type": "code",
      "metadata": {
        "id": "S3ODXZkiAy5Z",
        "colab": {
          "base_uri": "https://localhost:8080/",
          "height": 34
        },
        "outputId": "75765c51-85a0-4caf-c673-8fc716c7754c"
      },
      "source": [
        "# Prediction for training-set.\n",
        "from sklearn.metrics import accuracy_score\n",
        "\n",
        "with torch.no_grad():\n",
        "    output = model(train_x.cuda())\n",
        "    \n",
        "softmax = torch.exp(output).cpu()\n",
        "prob = list(softmax.numpy())\n",
        "predictions = np.argmax(prob, axis=1)\n",
        "\n",
        "accuracy_score(train_y, predictions) # Accuracy on training set."
      ],
      "execution_count": null,
      "outputs": [
        {
          "output_type": "execute_result",
          "data": {
            "text/plain": [
              "0.5028398333964408"
            ]
          },
          "metadata": {
            "tags": []
          },
          "execution_count": 34
        }
      ]
    }
  ]
}